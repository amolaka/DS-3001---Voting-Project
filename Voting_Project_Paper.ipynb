{
  "nbformat": 4,
  "nbformat_minor": 0,
  "metadata": {
    "colab": {
      "provenance": [],
      "authorship_tag": "ABX9TyNBv9rsOHrpjawrr/MFPQR6",
      "include_colab_link": true
    },
    "kernelspec": {
      "name": "python3",
      "display_name": "Python 3"
    },
    "language_info": {
      "name": "python"
    }
  },
  "cells": [
    {
      "cell_type": "markdown",
      "metadata": {
        "id": "view-in-github",
        "colab_type": "text"
      },
      "source": [
        "<a href=\"https://colab.research.google.com/github/amolaka/DS-3001---Voting-Project/blob/main/Voting_Project_Paper.ipynb\" target=\"_parent\"><img src=\"https://colab.research.google.com/assets/colab-badge.svg\" alt=\"Open In Colab\"/></a>"
      ]
    },
    {
      "cell_type": "markdown",
      "source": [
        "# Voting Project Paper\n",
        "## Predicting 2024 Virginia Presidential Election Outcomes"
      ],
      "metadata": {
        "id": "SwFQlT7wttJJ"
      }
    },
    {
      "cell_type": "markdown",
      "source": [
        "## Summary\n",
        "\n",
        "This project aims to predict the winner of the 2024 presidential election in the state of Virginia. The approach to developing this predicitive involves using voting data from presidential elections for Virginia from 2000 to 2020 and NHGIS county data, which contains county stats from every state in the country.\n",
        "This data will then be cleaned and preprocessed, along with undergoing some EDA, to help determine which variables will be the most useful to creating a model. We chose to focus on the variables pertaining to income, age, education, and race statistics to build a model. The models we chose to explore were kNN, linear regression, and random forests. From these models, the best proved to be ____ with __ __(supporting stats that provide Quantitative Information About Our Prediction's Precision)__  ,____. Additionally, county adjacencies data was used to create chloropleth plots that help visualize these results over the a map of Virginia.\n",
        "\n",
        "___ any other results"
      ],
      "metadata": {
        "id": "1_qYDyGPubkk"
      }
    },
    {
      "cell_type": "markdown",
      "source": [
        "## Data\n",
        "\n",
        "The Voting Data file with information on presidential elections for Virginia from 2000 to 2020 includes variables such as:\n",
        "\n",
        "\n",
        "*   year\n",
        "*   county\n",
        "* candidate\n",
        "* party\n",
        "* candidate votes\n",
        "* total votes\n",
        "\n",
        "The NHGIS county data demographic and economic variables we chose to focus on were\n",
        "\n",
        "\n",
        "*   income (grouped into 0-50K, 50k-100k, and 100k+)\n",
        "*   education (grouped by male and female as bachelor's degree and up or no degree)\n",
        "* age (grouped into 21-50 and 50+)\n",
        "* race (hispanic or latino, white, black, asian)\n",
        "\n",
        "\n",
        "\n",
        "\n",
        "\n"
      ],
      "metadata": {
        "id": "HTenpLoruL3W"
      }
    },
    {
      "cell_type": "markdown",
      "source": [
        "## Cleaning the Data & Challenges\n",
        "\n",
        "When cleaning the Voting and county adjacencies data, cleaning consisted of dropping NA's. Cleaning the NHGIS county data came with a few more challenges.To start, the second row of the dataframe had to be made as the header since that was the row that contained the actual descriptive column names. If left as was, this would have interfered with data types of the variables of interest, such as them not being all numerical. After removing that first row, there were still an issue with the data types, so certain variables had to be changed from objects to integer data types. Additionally, some of the county data files, like ./0002_ds176_20105_county_E.csv contained weird looking extra rows at the end had to be dropped. However, after looking further into these files, some did not contain data from the state of Virginia, which were what we desired, so not all of these county files ended up even being used."
      ],
      "metadata": {
        "id": "ibygjsR1uXq0"
      }
    },
    {
      "cell_type": "markdown",
      "source": [
        "## Data Preprocessing\n",
        "\n",
        "After isolating the county data from the state of interest, Virginia, the county dataframes files from different years were combined into a single dataframe. From here, then data was then cleaned further by dropping NA's."
      ],
      "metadata": {
        "id": "T7C48-Ob1EKA"
      }
    }
  ]
}